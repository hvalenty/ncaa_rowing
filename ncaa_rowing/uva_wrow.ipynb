{
 "cells": [
  {
   "cell_type": "markdown",
   "id": "2145d199-5c0e-42c9-9bbf-e6c2469e22b6",
   "metadata": {},
   "source": [
    "## PDF Reading Results Analysis"
   ]
  },
  {
   "cell_type": "code",
   "execution_count": 1,
   "id": "9e4f6695-a17f-41f7-85bd-8573570f7cc2",
   "metadata": {},
   "outputs": [],
   "source": [
    "import numpy as np\n",
    "import pandas as pd\n",
    "import PyPDF2\n",
    "import re"
   ]
  },
  {
   "cell_type": "code",
   "execution_count": 2,
   "id": "c34b52f8-07e1-4227-bfb8-add851645a9b",
   "metadata": {},
   "outputs": [
    {
     "name": "stdout",
     "output_type": "stream",
     "text": [
      "4\n",
      "B1G-ACC Dual\n",
      "Saturday, March 30\n",
      "Griggs Reservoir\n",
      "Columbus, Ohio\n",
      "No. 11 Virginia vs. No. 9 Michigan\n",
      "3V8/1N8: 1. Virginia, 7:01.4, 2. Michigan, 7:04.5\n",
      "2V4: 1. Michigan, 7:23.8, 2. Virginia, 7:28.7\n",
      "V4: 1. Michigan, 7:44.8, 2. Virginia, 7:50.4\n",
      "2V8: 1. Michigan, 6:53.9, 2. Virginia, 6:58.5\n",
      "V8:1. Michigan, 6:53.5, 2. Virginia, 7:00.9\n",
      "No. 11 Virginia vs. No. 12 Ohio State\n",
      "3V8/1N8: 1. Virginia, 7:40.5, 2. Ohio State, 7:55.0\n",
      "2V4: 1. Virginia, 7:58.1, 2. Ohio State, 8:08.5\n",
      "V4: 1. Ohio State, 7:47.3, 2. Virginia 7:58.9 \n",
      "2V8: 1. Virginia, 6:54.9, 2. Ohio State, 7:00.3\n",
      "V8: 1. Virginia, 6:40.1, 2. Ohio State, 6:44.1\n",
      "Virginia Lineups\n",
      "Varsity Eight: Coxswain: Nora Grabcheski, Stroke: Meagan Goldsmith, 7: Kate \n",
      "Kelly, 6: Eva Frohnhofer, 5: Lauren Benedict, 4: Skylar Morrison, 3: Lily Jarrett, \n",
      "2: Elsa Hartman, Bow: Kelsey Gems\n",
      "Second Varsity Eight: Coxswain: Zoe Tekeian, Stroke: Sophia Coppola, 7: \n",
      "Catherine Williams, 6: Izzie Bird, 5: Teagan Orth, 4: Stella Bittman, 3: Paige Loh, \n",
      "2: Lila Henn, Bow: Kate McGee\n",
      "Third Varsity Eight: Coxswain: Ashlyn McGinn, Stroke: Paris Miller, 7: Madeleine \n",
      "Agudelo, 6: Sarah Rapaglia, 5: Beatrice Jones, 4: Lily Bernero, 3: Katie \n",
      "Rapaglia, 2: Savannah Fox, Bow: Reilly Katz\n",
      "Varsity Four: Coxswain: Chloe Lee, Stroke: Ailbhe O’Grady, 3: Kennedy Housley, \n",
      "2: Sydney Fratamico; Bow: Caeley Tierney\n",
      "Second Varsity Four: Coxswain: Emma Bradish, Stroke: Cameron Bentley, 3: \n",
      "Dylan Bentley, 2: Sheila Joyce; Bow: Helene DimitrijevUVA Invite\n",
      "Saturday, April 14\n",
      "Lake Monticello\n",
      "Lake Monticello, Va.\n",
      "No. 11 Virginia vs. No. 1 Stanford and No. 5 Yale\n",
      "3V8: 1. Stanford, 6:28.5, 2. Virginia 6:50.1\n",
      "2V4: 1. Stanford, 7:12.4, 2. Virginia, 7:17.7\n",
      "V4: 1. Stanford, 7:04.0, 2. Yale, 7:06.8, 3. Virginia, 7:20.3\n",
      "2V8: 1. Stanford, 6:20.0, 2. Yale, 6:25.2, 3. Virginia, 6:31.4\n",
      "V8: 1. Stanford, 6:10.9, 2. Yale, 6:18.3, 3. Virginia 6:27.5\n",
      "Virginia Lineups\n",
      "Varsity Eight:  Coxswain: Nora Grabcheski, Stroke: Meagan Goldsmith, 7: Kate \n",
      "Kelly, 6: Eva Frohnhofer, 5: Lauren Benedict, 4: Catherine Williams, 3: Lily \n",
      "Jarrett, 2: Teagan Orth, Bow: Lauren Jochims\n",
      "Second Varsity Eight:  Coxswain: Zoe Tekeian, Stroke: Sophia Coppola, 7: Paige \n",
      "Loh, 6: Kelsey Gems, 5: Stella Bittman, 4: Sheila Joyce, 3: Izzie Bird, 2: Lila \n",
      "Henn, Bow: Kate McGee\n",
      "Third Varsity Eight:  Coxswain: Ashlyn McGinn, Stroke: Lily Bernero, 7: \n",
      "Madeleine Agudelo, 6: Sarah Rapaglia, 5: Katie Rapaglia, 4: Anna Schrieber, 3: \n",
      "Molly Bidwell 2: Paige Lane, Bow: Parker Cuthbertson\n",
      "Varsity Four:  Coxswain: Emma Bradish, Stroke: Ailbhe O’Grady, 3: Kennedy \n",
      "Housley, 2: Beatrice Jones; Bow: Caeley Tierney\n",
      "Second Varsity Four:  Coxswain: Chloe Lee, Stroke: Cameron Bentley, 3: \n",
      "Savannah Fox, 2: Sydney Fratamico; Bow: Dylan Bentley\n",
      "UVA Invite\n",
      "Sunday, April 15\n",
      "Lake Monticello\n",
      "Lake Monticello, Va.\n",
      "No. 11 Virginia vs. No. 4 Cal\n",
      "3V8: 1. Virginia, 7:10.8, 2. Oregon State, 7:28.6\n",
      "2V4: 1. Cal, 7:26.0, 2. Virginia, 7:30.1\n",
      "V4: 1. Cal, 7:23.8, 2. Virginia 7:29.1\n",
      "2V8: 1. Cal, 6:43.6, 2. Virginia, 6:45.7\n",
      "V8: 1. Cal, 6:31.7, 2. Virginia, 6:41.8\n",
      "Virginia Lineups\n",
      "Varsity Eight:  Coxswain: Nora Grabcheski, Stroke: Lauren Jochims, 7: Eva \n",
      "Frohnhofer, 6: Kate Kelly, 5: Catherine Williams, 4: Lauren Benedict, 3: Teagan \n",
      "Orth, 2: Lily Jarrett, Bow: Meagan Goldsmith\n",
      "Second Varsity Eight:  Coxswain: Zoe Tekeian, Stroke: Sophia Coppola, 7: Paige \n",
      "Loh, 6: Kelsey Gems, 5: Stella Bittman, 4: Sheila Joyce, 3: Izzie Bird, 2: Lila \n",
      "Henn, Bow: Kate McGee\n",
      "Third Varsity Eight:  Coxswain: Ashlyn McGinn, Stroke: Lily Bernero, 7: \n",
      "Madeleine Agudelo, 6: Sarah Rapaglia, 5: Katie Rapaglia, 4: Anna Schrieber, 3: \n",
      "Molly Bidwell 2: Paige Lane, Bow: Parker Cuthbertson\n",
      "Varsity Four:  Coxswain: Emma Bradish, Stroke: Ailbhe O’Grady, 3: Kennedy \n",
      "Housley, 2: Beatrice Jones; Bow: Caeley Tierney\n",
      "Second Varsity Four:  Coxswain: Chloe Lee, Stroke: Cameron Bentley, 3: \n",
      "Savannah Fox, 2: Sydney Fratamico; Bow: Dylan Bentley\n",
      "2024 V irginia Rowing Results/Lineups\n"
     ]
    }
   ],
   "source": [
    "# creating a pdf reader object\n",
    "reader = PyPDF2.PdfReader('uva_2023_24_rowing_results.pdf')\n",
    "\n",
    "# print the number of pages in pdf file\n",
    "print(len(reader.pages))\n",
    "\n",
    "# print the text of the first page\n",
    "print(reader.pages[0].extract_text())"
   ]
  },
  {
   "cell_type": "code",
   "execution_count": 3,
   "id": "857870bf-2425-415c-9e58-9c1ac4e5515a",
   "metadata": {},
   "outputs": [
    {
     "name": "stdout",
     "output_type": "stream",
     "text": [
      "NCAA Championship\n",
      "Friday, May 31\n",
      "East Fork/Harsha Lake\n",
      "Bethel, Ohio\n",
      "Varsity Eight Heat Two\n",
      "1. Stanford, 6:50.372, 2. Yale, 6:55.875, 3. Washington, 6:56.019, 4. Virginia, \n",
      "7:04.387, 5. Northeastern, 7:14.784\n",
      "Second Varsity Eight Heat Three\n",
      "1. Stanford, 7:00.982, 2. Princeton, 7:06.553, 3. Virginia, 7:08.050, 4. \n",
      "Rutgers, 7:08.096, 5. Northeastern, 7:35.748, 6. Jacksonville, 7:51.360\n",
      "Varsity Four Heat Three\n",
      "1. Yale, 7:41.231, 2. Brown, 7:50.616, 3. Rutgers, 7:52.854, 4. Virginia, \n",
      "7:56.928, 5. SMU, 8:28.491, 6. Rhode Island, 8:38.434\n",
      "Virginia Lineups\n",
      "Varsity Eight : Coxswain: Nora Grabcheski, Stroke: Lauren Jochims, 7: Catherine \n",
      "Williams, 6: Jenna Hajji, 5: Skylar Morrison, 4: Kate Kelly, 3: Eva Frohnhofer, 2: \n",
      "Kelsey Gems, Bow: Meagan Goldsmith\n",
      " \n",
      "Second Varsity Eight : Coxswain: Zoe Tekeian, Stroke: Sophia Coppola, 7: \n",
      "Cameron Bentley, 6: Lauren Benedict, 5: Paige Loh, 4: Izzie Bird, 3: Sheila \n",
      "Joyce, 2: Lila Henn, Bow: Kate McGee\n",
      " \n",
      "Varsity Four : Coxswain: Emma Bradish, Stroke: Teagan Orth, 3: Lily Jarrett, 2: \n",
      "Sydney Fratamico; Bow: Kennedy Housley\n",
      "Spares : Beatrice Jones, Riley Richardson, Chloe Lee\n",
      "\n"
     ]
    }
   ],
   "source": [
    "# NCAAs prelims\n",
    "print(reader.pages[2].extract_text()[0:1121])"
   ]
  },
  {
   "cell_type": "code",
   "execution_count": 20,
   "id": "248d2b3e-467e-46a1-be79-53f652c03a41",
   "metadata": {},
   "outputs": [
    {
     "name": "stdout",
     "output_type": "stream",
     "text": [
      "Varsity Eight : Coxswain: Nora Grabcheski, Stroke: Lauren Jochims, 7: Catherine \n",
      "Williams, 6: Jenna Hajji, 5: Skylar Morrison, 4: Kate Kelly, 3: Eva Frohnhofer, 2: \n",
      "Kelsey Gems, Bow: Meagan Goldsmith\n",
      " \n",
      "Second Varsity Eight : Coxswain: Zoe Tekeian, Stroke: Sophia Coppola, 7: \n",
      "Cameron Bentley, 6: Lauren Benedict, 5: Paige Loh, 4: Izzie Bird, 3: Sheila \n",
      "Joyce, 2: Lila Henn, Bow: Kate McGee\n",
      " \n",
      "Varsity Four : Coxswain: Emma Bradish, Stroke: Teagan Orth, 3: Lily Jarrett, 2: \n",
      "Sydney Fratamico; Bow: Kennedy Housley\n",
      "Spares : Beatrice Jones, Riley Richardson, Chloe Lee\n",
      "\n"
     ]
    }
   ],
   "source": [
    "print(reader.pages[2].extract_text()[556:1121])"
   ]
  },
  {
   "cell_type": "markdown",
   "id": "90172f60-b830-4dd1-a6dc-45730340dae5",
   "metadata": {},
   "source": [
    "## Using automated PDF reader to extract boatlineups\n",
    "\n",
    "Get the information into a 'cleaner' form in a dataframe, and perhaps into a merged table by meet"
   ]
  },
  {
   "cell_type": "code",
   "execution_count": 43,
   "id": "9f8cac37-4b21-4300-b359-fdb0524de043",
   "metadata": {},
   "outputs": [],
   "source": [
    "v8_lineup = reader.pages[2].extract_text()[556:755]"
   ]
  },
  {
   "cell_type": "code",
   "execution_count": 44,
   "id": "1e7d3eca-89ea-4e25-b01c-070b1f952779",
   "metadata": {},
   "outputs": [
    {
     "data": {
      "text/plain": [
       "['Varsity Eight',\n",
       " 'Coxswain: Nora Grabcheski',\n",
       " 'Stroke: Lauren Jochims',\n",
       " '7: Catherine Williams',\n",
       " '6: Jenna Hajji',\n",
       " '5: Skylar Morrison',\n",
       " '4: Kate Kelly',\n",
       " '3: Eva Frohnhofer',\n",
       " '2: Kelsey Gems',\n",
       " 'Bow: Meagan Goldsmith']"
      ]
     },
     "execution_count": 44,
     "metadata": {},
     "output_type": "execute_result"
    }
   ],
   "source": [
    "# varsity 8 into clean list form\n",
    "v8_lineup = v8_lineup.replace(':',',', 1).replace('\\n','').split(',')\n",
    "v8_lineup = [x.strip() for x in v8_lineup]\n",
    "v8_lineup"
   ]
  },
  {
   "cell_type": "code",
   "execution_count": 50,
   "id": "06b9c0f9-95ec-4c16-8ed4-f2f00d5791f1",
   "metadata": {},
   "outputs": [],
   "source": [
    "snd_v8_lineup = reader.pages[2].extract_text()[757:945]"
   ]
  },
  {
   "cell_type": "code",
   "execution_count": 51,
   "id": "618d7c4f-d094-4383-9a2b-f05dcb7fe821",
   "metadata": {},
   "outputs": [
    {
     "data": {
      "text/plain": [
       "['Second Varsity Eight',\n",
       " 'Coxswain: Zoe Tekeian',\n",
       " 'Stroke: Sophia Coppola',\n",
       " '7: Cameron Bentley',\n",
       " '6: Lauren Benedict',\n",
       " '5: Paige Loh',\n",
       " '4: Izzie Bird',\n",
       " '3: Sheila Joyce',\n",
       " '2: Lila Henn',\n",
       " 'Bow: Kate McGee']"
      ]
     },
     "execution_count": 51,
     "metadata": {},
     "output_type": "execute_result"
    }
   ],
   "source": [
    "# 2nd varsity 8 into clean list form\n",
    "snd_v8_lineup = snd_v8_lineup.replace(':',',', 1).replace('\\n','').split(',')\n",
    "snd_v8_lineup = [x.strip() for x in snd_v8_lineup]\n",
    "snd_v8_lineup"
   ]
  },
  {
   "cell_type": "code",
   "execution_count": 65,
   "id": "778acb86-9cfc-4c9d-b6fe-05cddfa39991",
   "metadata": {},
   "outputs": [],
   "source": [
    "v4_lineup = reader.pages[2].extract_text()[948:1067]"
   ]
  },
  {
   "cell_type": "code",
   "execution_count": 66,
   "id": "36708433-9aef-4620-9855-61237947cded",
   "metadata": {},
   "outputs": [
    {
     "data": {
      "text/plain": [
       "['Varsity Four',\n",
       " 'Coxswain: Emma Bradish',\n",
       " 'Stroke: Teagan Orth',\n",
       " '3: Lily Jarrett',\n",
       " '2: Sydney Fratamico',\n",
       " 'Bow: Kennedy Housley']"
      ]
     },
     "execution_count": 66,
     "metadata": {},
     "output_type": "execute_result"
    }
   ],
   "source": [
    "# varsity 4 into clean list form\n",
    "v4_lineup = v4_lineup.replace(':',',', 1).replace('\\n','').replace(';',',').split(',')\n",
    "v4_lineup = [x.strip() for x in v4_lineup]\n",
    "v4_lineup"
   ]
  },
  {
   "cell_type": "markdown",
   "id": "956985d3-0e3b-4614-b8bf-c34b016e58ad",
   "metadata": {},
   "source": [
    "### Techniques for list --> dataframe as first completed in duq_row analysis"
   ]
  },
  {
   "cell_type": "code",
   "execution_count": 75,
   "id": "83243a61-b798-4f28-8f3c-99b7e45e4cdf",
   "metadata": {},
   "outputs": [
    {
     "data": {
      "text/html": [
       "<div>\n",
       "<style scoped>\n",
       "    .dataframe tbody tr th:only-of-type {\n",
       "        vertical-align: middle;\n",
       "    }\n",
       "\n",
       "    .dataframe tbody tr th {\n",
       "        vertical-align: top;\n",
       "    }\n",
       "\n",
       "    .dataframe thead th {\n",
       "        text-align: right;\n",
       "    }\n",
       "</style>\n",
       "<table border=\"1\" class=\"dataframe\">\n",
       "  <thead>\n",
       "    <tr style=\"text-align: right;\">\n",
       "      <th></th>\n",
       "      <th>Seat</th>\n",
       "      <th>Athlete</th>\n",
       "    </tr>\n",
       "  </thead>\n",
       "  <tbody>\n",
       "    <tr>\n",
       "      <th>0</th>\n",
       "      <td>Coxswain</td>\n",
       "      <td>Nora Grabcheski</td>\n",
       "    </tr>\n",
       "    <tr>\n",
       "      <th>1</th>\n",
       "      <td>Stroke</td>\n",
       "      <td>Lauren Jochims</td>\n",
       "    </tr>\n",
       "    <tr>\n",
       "      <th>2</th>\n",
       "      <td>7</td>\n",
       "      <td>Catherine Williams</td>\n",
       "    </tr>\n",
       "    <tr>\n",
       "      <th>3</th>\n",
       "      <td>6</td>\n",
       "      <td>Jenna Hajji</td>\n",
       "    </tr>\n",
       "    <tr>\n",
       "      <th>4</th>\n",
       "      <td>5</td>\n",
       "      <td>Skylar Morrison</td>\n",
       "    </tr>\n",
       "    <tr>\n",
       "      <th>5</th>\n",
       "      <td>4</td>\n",
       "      <td>Kate Kelly</td>\n",
       "    </tr>\n",
       "    <tr>\n",
       "      <th>6</th>\n",
       "      <td>3</td>\n",
       "      <td>Eva Frohnhofer</td>\n",
       "    </tr>\n",
       "    <tr>\n",
       "      <th>7</th>\n",
       "      <td>2</td>\n",
       "      <td>Kelsey Gems</td>\n",
       "    </tr>\n",
       "    <tr>\n",
       "      <th>8</th>\n",
       "      <td>Bow</td>\n",
       "      <td>Meagan Goldsmith</td>\n",
       "    </tr>\n",
       "  </tbody>\n",
       "</table>\n",
       "</div>"
      ],
      "text/plain": [
       "       Seat              Athlete\n",
       "0  Coxswain      Nora Grabcheski\n",
       "1    Stroke       Lauren Jochims\n",
       "2         7   Catherine Williams\n",
       "3         6          Jenna Hajji\n",
       "4         5      Skylar Morrison\n",
       "5         4           Kate Kelly\n",
       "6         3       Eva Frohnhofer\n",
       "7         2          Kelsey Gems\n",
       "8       Bow     Meagan Goldsmith"
      ]
     },
     "execution_count": 75,
     "metadata": {},
     "output_type": "execute_result"
    }
   ],
   "source": [
    "# get list cleaner into dataframe\n",
    "v8_df = pd.DataFrame(v8_lineup)\n",
    "# drop metadata row as the boat name (varsity 8)\n",
    "v8_df = v8_df.drop(index=0).reset_index(drop=True)\n",
    "# split to keep seat position\n",
    "v8_df[['Seat', 'Athlete']] = v8_df[0].str.split(':', n=1, expand=True)\n",
    "# remove original column\n",
    "v8_df = v8_df.drop(0, axis=1)\n",
    "v8_df"
   ]
  },
  {
   "cell_type": "markdown",
   "id": "631d5557-f6fa-4db8-b6e0-00efe6c9aca2",
   "metadata": {},
   "source": [
    "### Go beyond the duq_row analysis with merging the three lineups for one data table for the meet"
   ]
  },
  {
   "cell_type": "code",
   "execution_count": 76,
   "id": "4c747366-8ad6-459b-a2c2-6e0ccbeed15f",
   "metadata": {},
   "outputs": [],
   "source": [
    "# VARSITY 8 -- NCAA Finals \n",
    "# get list cleaner into dataframe\n",
    "v8_df = pd.DataFrame(v8_lineup)\n",
    "# drop metadata row as the boat name (varsity 8)\n",
    "v8_df = v8_df.drop(index=0).reset_index(drop=True)\n",
    "# split to keep seat position\n",
    "v8_df[['seat', 'v8_athlete']] = v8_df[0].str.split(':', n=1, expand=True)\n",
    "# remove original column\n",
    "v8_df = v8_df.drop(0, axis=1)"
   ]
  },
  {
   "cell_type": "code",
   "execution_count": 77,
   "id": "530d3c98-dec5-458e-87b2-d5a999b86ab9",
   "metadata": {},
   "outputs": [],
   "source": [
    "# 2ND VARSITY 8 --  NCAA Finals \n",
    "# get list cleaner into dataframe\n",
    "sv8_df = pd.DataFrame(snd_v8_lineup)\n",
    "# drop metadata row as the boat name (varsity 8)\n",
    "sv8_df = sv8_df.drop(index=0).reset_index(drop=True)\n",
    "# split to keep seat position\n",
    "sv8_df[['seat', 'sv8_athlete']] = sv8_df[0].str.split(':', n=1, expand=True)\n",
    "# remove original column\n",
    "sv8_df = sv8_df.drop(0, axis=1)"
   ]
  },
  {
   "cell_type": "code",
   "execution_count": 78,
   "id": "0465af12-bbc0-4565-9fa3-825932854e4e",
   "metadata": {},
   "outputs": [],
   "source": [
    "# VARSITY 4 --  NCAA Finals\n",
    "# get list cleaner into dataframe\n",
    "v4_df = pd.DataFrame(v4_lineup)\n",
    "# drop metadata row as the boat name (varsity 8)\n",
    "v4_df = v4_df.drop(index=0).reset_index(drop=True)\n",
    "# split to keep seat position\n",
    "v4_df[['seat', 'v4_athlete']] = v4_df[0].str.split(':', n=1, expand=True)\n",
    "# remove original column\n",
    "v4_df = v4_df.drop(0, axis=1)"
   ]
  },
  {
   "cell_type": "code",
   "execution_count": 86,
   "id": "e51c2358-cb30-4e89-b939-9c6b67c1fe8d",
   "metadata": {},
   "outputs": [],
   "source": [
    "# Now join them all together\n",
    "ncaa_finals24 = pd.merge(v8_df, sv8_df, on = 'seat')"
   ]
  },
  {
   "cell_type": "code",
   "execution_count": 88,
   "id": "6be9da8d-738b-4e5c-93e4-feedc07ece49",
   "metadata": {},
   "outputs": [
    {
     "data": {
      "text/html": [
       "<div>\n",
       "<style scoped>\n",
       "    .dataframe tbody tr th:only-of-type {\n",
       "        vertical-align: middle;\n",
       "    }\n",
       "\n",
       "    .dataframe tbody tr th {\n",
       "        vertical-align: top;\n",
       "    }\n",
       "\n",
       "    .dataframe thead th {\n",
       "        text-align: right;\n",
       "    }\n",
       "</style>\n",
       "<table border=\"1\" class=\"dataframe\">\n",
       "  <thead>\n",
       "    <tr style=\"text-align: right;\">\n",
       "      <th></th>\n",
       "      <th>seat</th>\n",
       "      <th>v8_athlete</th>\n",
       "      <th>sv8_athlete</th>\n",
       "      <th>v4_athlete</th>\n",
       "    </tr>\n",
       "  </thead>\n",
       "  <tbody>\n",
       "    <tr>\n",
       "      <th>0</th>\n",
       "      <td>Coxswain</td>\n",
       "      <td>Nora Grabcheski</td>\n",
       "      <td>Zoe Tekeian</td>\n",
       "      <td>Emma Bradish</td>\n",
       "    </tr>\n",
       "    <tr>\n",
       "      <th>1</th>\n",
       "      <td>Stroke</td>\n",
       "      <td>Lauren Jochims</td>\n",
       "      <td>Sophia Coppola</td>\n",
       "      <td>Teagan Orth</td>\n",
       "    </tr>\n",
       "    <tr>\n",
       "      <th>2</th>\n",
       "      <td>7</td>\n",
       "      <td>Catherine Williams</td>\n",
       "      <td>Cameron Bentley</td>\n",
       "      <td>NaN</td>\n",
       "    </tr>\n",
       "    <tr>\n",
       "      <th>3</th>\n",
       "      <td>6</td>\n",
       "      <td>Jenna Hajji</td>\n",
       "      <td>Lauren Benedict</td>\n",
       "      <td>NaN</td>\n",
       "    </tr>\n",
       "    <tr>\n",
       "      <th>4</th>\n",
       "      <td>5</td>\n",
       "      <td>Skylar Morrison</td>\n",
       "      <td>Paige Loh</td>\n",
       "      <td>NaN</td>\n",
       "    </tr>\n",
       "    <tr>\n",
       "      <th>5</th>\n",
       "      <td>4</td>\n",
       "      <td>Kate Kelly</td>\n",
       "      <td>Izzie Bird</td>\n",
       "      <td>NaN</td>\n",
       "    </tr>\n",
       "    <tr>\n",
       "      <th>6</th>\n",
       "      <td>3</td>\n",
       "      <td>Eva Frohnhofer</td>\n",
       "      <td>Sheila Joyce</td>\n",
       "      <td>Lily Jarrett</td>\n",
       "    </tr>\n",
       "    <tr>\n",
       "      <th>7</th>\n",
       "      <td>2</td>\n",
       "      <td>Kelsey Gems</td>\n",
       "      <td>Lila Henn</td>\n",
       "      <td>Sydney Fratamico</td>\n",
       "    </tr>\n",
       "    <tr>\n",
       "      <th>8</th>\n",
       "      <td>Bow</td>\n",
       "      <td>Meagan Goldsmith</td>\n",
       "      <td>Kate McGee</td>\n",
       "      <td>Kennedy Housley</td>\n",
       "    </tr>\n",
       "  </tbody>\n",
       "</table>\n",
       "</div>"
      ],
      "text/plain": [
       "       seat           v8_athlete       sv8_athlete         v4_athlete\n",
       "0  Coxswain      Nora Grabcheski       Zoe Tekeian       Emma Bradish\n",
       "1    Stroke       Lauren Jochims    Sophia Coppola        Teagan Orth\n",
       "2         7   Catherine Williams   Cameron Bentley                NaN\n",
       "3         6          Jenna Hajji   Lauren Benedict                NaN\n",
       "4         5      Skylar Morrison         Paige Loh                NaN\n",
       "5         4           Kate Kelly        Izzie Bird                NaN\n",
       "6         3       Eva Frohnhofer      Sheila Joyce       Lily Jarrett\n",
       "7         2          Kelsey Gems         Lila Henn   Sydney Fratamico\n",
       "8       Bow     Meagan Goldsmith        Kate McGee    Kennedy Housley"
      ]
     },
     "execution_count": 88,
     "metadata": {},
     "output_type": "execute_result"
    }
   ],
   "source": [
    "ncaa_finals24 = pd.merge(ncaa_finals24, v4_df, how = 'left', on = 'seat')\n",
    "ncaa_finals24"
   ]
  },
  {
   "cell_type": "markdown",
   "id": "aef4c440-648b-470e-93a9-41fe783cba0e",
   "metadata": {},
   "source": [
    "## Streamline PDF to data frame with another meet"
   ]
  },
  {
   "cell_type": "code",
   "execution_count": 93,
   "id": "0aa386d3-c978-4c48-a67e-eebde58184c6",
   "metadata": {},
   "outputs": [
    {
     "data": {
      "text/plain": [
       "4"
      ]
     },
     "execution_count": 93,
     "metadata": {},
     "output_type": "execute_result"
    }
   ],
   "source": [
    "# combine whold document instead of working with separate pages\n",
    "whole_doc = [reader.pages[i].extract_text() for i in range(len(reader.pages))]\n",
    "len(whole_doc)"
   ]
  },
  {
   "cell_type": "code",
   "execution_count": 94,
   "id": "127eae41-eb0b-4fc5-a708-e78fdef0962c",
   "metadata": {},
   "outputs": [
    {
     "data": {
      "text/plain": [
       "[4, 5183, 6716]"
      ]
     },
     "execution_count": 94,
     "metadata": {},
     "output_type": "execute_result"
    }
   ],
   "source": [
    "# clean up the raw PDF\n",
    "whole_doc = [x.replace('\\n',' ') for x in whole_doc]\n",
    "whole_doc = ''.join(whole_doc)\n",
    "# refine finding the beginning of a meet instead of guess and check with indicies\n",
    "indicies = [index for index in range(len(whole_doc)) if whole_doc.startswith('ACC', index)]\n",
    "indicies"
   ]
  },
  {
   "cell_type": "markdown",
   "id": "ee8ff38a-01c4-4541-a16a-22361a1141ac",
   "metadata": {},
   "source": [
    "## Results Indicies Keywords\n",
    "* Lineups\n",
    "* B1G\n",
    "* ACC\n",
    "* Invite\n",
    "* Championship\n",
    "* NCAA"
   ]
  },
  {
   "cell_type": "code",
   "execution_count": 96,
   "id": "8923c53d-d678-4782-9040-1ca36b181a32",
   "metadata": {},
   "outputs": [
    {
     "name": "stdout",
     "output_type": "stream",
     "text": [
      "Lineups indicies  [619, 1862, 3024, 3901, 4345, 5823, 7575, 9016, 10147, 11673]\n",
      "B1G indicies  [0]\n",
      "ACC indicies  [4, 5183, 6716]\n",
      "Invite indicies  [1463, 2713, 3917]\n",
      "Championship indicies  [619, 1862, 3024, 3901, 4345, 5823, 7575, 9016, 10147, 11673]\n",
      "NCAA indicies  [8468, 9589, 10719]\n"
     ]
    }
   ],
   "source": [
    "# look up indicies for keywords -- help with search\n",
    "lineups = [index for index in range(len(whole_doc)) if whole_doc.startswith('Lineups', index)]\n",
    "print('Lineups indicies ', lineups)\n",
    "\n",
    "b1g = [index for index in range(len(whole_doc)) if whole_doc.startswith('B1G', index)]\n",
    "print('B1G indicies ', b1g)\n",
    "\n",
    "acc = [index for index in range(len(whole_doc)) if whole_doc.startswith('ACC', index)]\n",
    "print('ACC indicies ', acc)\n",
    "\n",
    "invite = [index for index in range(len(whole_doc)) if whole_doc.startswith('Invite', index)]\n",
    "print('Invite indicies ', invite)\n",
    "\n",
    "champ = [index for index in range(len(whole_doc)) if whole_doc.startswith('Championship', index)]\n",
    "print('Championship indicies ', lineups)\n",
    "\n",
    "ncaa = [index for index in range(len(whole_doc)) if whole_doc.startswith('NCAA', index)]\n",
    "print('NCAA indicies ', ncaa)"
   ]
  },
  {
   "cell_type": "code",
   "execution_count": 110,
   "id": "d84b16c5-834b-40d6-86a9-08ef0e53017b",
   "metadata": {},
   "outputs": [
    {
     "data": {
      "text/plain": [
       "'ACC Championship Saturday, May 19 Lake Wheeler Raleigh, N.C. Third Varsity Eight : 1. Virginia, 6:35.011, 2. Syracuse, 6:38.985, 3. Duke,  6:42.378, 4. Notre Dame, 6:53.538, 5. Miami, 6:56.008, 6. North Carolina,  6:56.071 Second Varsity Four : 1. Virginia, 7:11.110, 2. Duke, 7:11.770, 3. Syracuse,  7:12.626,4. Clemson, 7:28.406, 5. Notre Dame, 7:32.160, 6. North Carolina,  7:36.136 Varsity Four : 1. Duke, 7:05.130, 2. Virginia, 7:11.290. 3. Notre Dame,  7:15.693, 4. Syracuse, 7:18.690, 5. Clemson, 7:19.257, 6. North Carolina,  7:27.080 Second Varsity Eight : 1. Syracuse, 6:19.406, 2. Virginia, 6:21.320, 3. Duke,  6:27.753, 4. Miami, 6:33.373, 5. Notre Dame, 6:37.130, 6. Louisville,  6:41.380 Varsity Eight : 1. Syracuse, 6:09.814, 2. Virginia, 6:15.514, 3. Notre Dame,  6:18.877, 4. Duke, 6:21.764, 5. Miami, 6:23.427, 6. Clemson, 6:26.787 Virginia Lineups Varsity Eight : Coxswain: Nora Grabcheski, Stroke: Lauren Jochims, 7: Skylar  Morrison, 6: Jenna Hajji, 5: Catherine Williams, 4: Lauren Benedict, 3: Eva  Frohnhofer, 2: Kate Kelly, Bow: Meagan Goldsmith Second Varsity Eight : Coxswain: Zoe Tekeian, Stroke: Sophia Coppola, 7:  Cameron Bentley, 6: Kelsey Gems, 5: Paige Loh, 4: Izzie Bird, 3: Sheila Joyce, 2:  Lila Henn, Bow: Kate McGee Third Varsity Eight : Coxswain: Allison Triano, Stroke: Kennedy Housley, 7:  Helene Dimitrijev, 6: Lily Bernero, 5: Beatrice Jones, 4: Riley Richardson, 3:  Katie Rapaglia, 2: Sarah Rapaglia, Bow: Molly Bidwell Varsity Four : Coxswain: Chloe Lee, Stroke: Caeley Tierney, 3: Ailbhe O’Grady, 2:  Teagan Orth; Bow: Dylan Bentley Second Varsity Four : Coxswain: Emma Bradish, Stroke: Stella Bittman, 3:  Savannah Fox, 2: Lily Jarrett; Bow: Sydney Fratamico Spares : Coxswain Ashlyn McGinn, Reilly Katz'"
      ]
     },
     "execution_count": 110,
     "metadata": {},
     "output_type": "execute_result"
    }
   ],
   "source": [
    "whole_doc[6716:8468]"
   ]
  },
  {
   "cell_type": "code",
   "execution_count": 115,
   "id": "3300db5a-b360-48ec-81d6-8462fafb350c",
   "metadata": {},
   "outputs": [
    {
     "data": {
      "text/plain": [
       "'Lineups Varsity Eight : Coxswain: Nora Grabcheski, Stroke: Lauren Jochims, 7: Skylar  Morrison, 6: Jenna Hajji, 5: Catherine Williams, 4: Lauren Benedict, 3: Eva  Frohnhofer, 2: Kate Kelly, Bow: Meagan Goldsmith'"
      ]
     },
     "execution_count": 115,
     "metadata": {},
     "output_type": "execute_result"
    }
   ],
   "source": [
    "whole_doc[7575:8468]\n",
    "whole_doc[7575:7786]"
   ]
  },
  {
   "cell_type": "code",
   "execution_count": 116,
   "id": "934459a5-d8bd-46da-abbe-179e4cbcc13d",
   "metadata": {},
   "outputs": [
    {
     "data": {
      "text/plain": [
       "['Lineups Varsity Eight',\n",
       " 'Coxswain: Nora Grabcheski',\n",
       " 'Stroke: Lauren Jochims',\n",
       " '7: Skylar  Morrison',\n",
       " '6: Jenna Hajji',\n",
       " '5: Catherine Williams',\n",
       " '4: Lauren Benedict',\n",
       " '3: Eva  Frohnhofer',\n",
       " '2: Kate Kelly',\n",
       " 'Bow: Meagan Goldsmith']"
      ]
     },
     "execution_count": 116,
     "metadata": {},
     "output_type": "execute_result"
    }
   ],
   "source": [
    "v8_lineup = whole_doc[7575:7786]\n",
    "# varsity 8 into clean list form\n",
    "v8_lineup = v8_lineup.replace(':',',', 1).split(',')\n",
    "v8_lineup = [x.strip() for x in v8_lineup]\n",
    "v8_lineup"
   ]
  },
  {
   "cell_type": "markdown",
   "id": "813ba84c-ede6-48c9-ac28-fc143d43077c",
   "metadata": {},
   "source": [
    "## Within another project\n",
    "Want to save placement X out of Y and time: ncaa_pre_results_V8_2324\n",
    "\n",
    "Also separately save lineups: ncaa_pre_line_V8_2324\n",
    "\n",
    "Do this with season-over-season in mind -- comparisons within and across seasons"
   ]
  },
  {
   "cell_type": "code",
   "execution_count": 33,
   "id": "99706e6e-281d-4159-903c-1409872412f4",
   "metadata": {},
   "outputs": [],
   "source": [
    "ncaa_pre_all = reader.pages[2].extract_text()[0:1121]"
   ]
  },
  {
   "cell_type": "code",
   "execution_count": null,
   "id": "d22ac668-4932-4abc-9bfa-0e103f091f96",
   "metadata": {},
   "outputs": [],
   "source": []
  },
  {
   "cell_type": "code",
   "execution_count": null,
   "id": "af027fce-cd8a-4b0d-bad2-f2bbcdd50a43",
   "metadata": {},
   "outputs": [],
   "source": []
  }
 ],
 "metadata": {
  "kernelspec": {
   "display_name": "Python 3 (ipykernel)",
   "language": "python",
   "name": "python3"
  },
  "language_info": {
   "codemirror_mode": {
    "name": "ipython",
    "version": 3
   },
   "file_extension": ".py",
   "mimetype": "text/x-python",
   "name": "python",
   "nbconvert_exporter": "python",
   "pygments_lexer": "ipython3",
   "version": "3.8.19"
  }
 },
 "nbformat": 4,
 "nbformat_minor": 5
}
