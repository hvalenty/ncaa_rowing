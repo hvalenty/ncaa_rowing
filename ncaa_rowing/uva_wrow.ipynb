{
 "cells": [
  {
   "cell_type": "markdown",
   "id": "2145d199-5c0e-42c9-9bbf-e6c2469e22b6",
   "metadata": {},
   "source": [
    "## PDF Reading Results Analysis"
   ]
  },
  {
   "cell_type": "code",
   "execution_count": 35,
   "id": "9e4f6695-a17f-41f7-85bd-8573570f7cc2",
   "metadata": {},
   "outputs": [],
   "source": [
    "import numpy as np\n",
    "import pandas as pd\n",
    "import PyPDF2\n",
    "import re"
   ]
  },
  {
   "cell_type": "code",
   "execution_count": 2,
   "id": "c34b52f8-07e1-4227-bfb8-add851645a9b",
   "metadata": {},
   "outputs": [
    {
     "name": "stdout",
     "output_type": "stream",
     "text": [
      "4\n",
      "B1G-ACC Dual\n",
      "Saturday, March 30\n",
      "Griggs Reservoir\n",
      "Columbus, Ohio\n",
      "No. 11 Virginia vs. No. 9 Michigan\n",
      "3V8/1N8: 1. Virginia, 7:01.4, 2. Michigan, 7:04.5\n",
      "2V4: 1. Michigan, 7:23.8, 2. Virginia, 7:28.7\n",
      "V4: 1. Michigan, 7:44.8, 2. Virginia, 7:50.4\n",
      "2V8: 1. Michigan, 6:53.9, 2. Virginia, 6:58.5\n",
      "V8:1. Michigan, 6:53.5, 2. Virginia, 7:00.9\n",
      "No. 11 Virginia vs. No. 12 Ohio State\n",
      "3V8/1N8: 1. Virginia, 7:40.5, 2. Ohio State, 7:55.0\n",
      "2V4: 1. Virginia, 7:58.1, 2. Ohio State, 8:08.5\n",
      "V4: 1. Ohio State, 7:47.3, 2. Virginia 7:58.9 \n",
      "2V8: 1. Virginia, 6:54.9, 2. Ohio State, 7:00.3\n",
      "V8: 1. Virginia, 6:40.1, 2. Ohio State, 6:44.1\n",
      "Virginia Lineups\n",
      "Varsity Eight: Coxswain: Nora Grabcheski, Stroke: Meagan Goldsmith, 7: Kate \n",
      "Kelly, 6: Eva Frohnhofer, 5: Lauren Benedict, 4: Skylar Morrison, 3: Lily Jarrett, \n",
      "2: Elsa Hartman, Bow: Kelsey Gems\n",
      "Second Varsity Eight: Coxswain: Zoe Tekeian, Stroke: Sophia Coppola, 7: \n",
      "Catherine Williams, 6: Izzie Bird, 5: Teagan Orth, 4: Stella Bittman, 3: Paige Loh, \n",
      "2: Lila Henn, Bow: Kate McGee\n",
      "Third Varsity Eight: Coxswain: Ashlyn McGinn, Stroke: Paris Miller, 7: Madeleine \n",
      "Agudelo, 6: Sarah Rapaglia, 5: Beatrice Jones, 4: Lily Bernero, 3: Katie \n",
      "Rapaglia, 2: Savannah Fox, Bow: Reilly Katz\n",
      "Varsity Four: Coxswain: Chloe Lee, Stroke: Ailbhe O’Grady, 3: Kennedy Housley, \n",
      "2: Sydney Fratamico; Bow: Caeley Tierney\n",
      "Second Varsity Four: Coxswain: Emma Bradish, Stroke: Cameron Bentley, 3: \n",
      "Dylan Bentley, 2: Sheila Joyce; Bow: Helene DimitrijevUVA Invite\n",
      "Saturday, April 14\n",
      "Lake Monticello\n",
      "Lake Monticello, Va.\n",
      "No. 11 Virginia vs. No. 1 Stanford and No. 5 Yale\n",
      "3V8: 1. Stanford, 6:28.5, 2. Virginia 6:50.1\n",
      "2V4: 1. Stanford, 7:12.4, 2. Virginia, 7:17.7\n",
      "V4: 1. Stanford, 7:04.0, 2. Yale, 7:06.8, 3. Virginia, 7:20.3\n",
      "2V8: 1. Stanford, 6:20.0, 2. Yale, 6:25.2, 3. Virginia, 6:31.4\n",
      "V8: 1. Stanford, 6:10.9, 2. Yale, 6:18.3, 3. Virginia 6:27.5\n",
      "Virginia Lineups\n",
      "Varsity Eight:  Coxswain: Nora Grabcheski, Stroke: Meagan Goldsmith, 7: Kate \n",
      "Kelly, 6: Eva Frohnhofer, 5: Lauren Benedict, 4: Catherine Williams, 3: Lily \n",
      "Jarrett, 2: Teagan Orth, Bow: Lauren Jochims\n",
      "Second Varsity Eight:  Coxswain: Zoe Tekeian, Stroke: Sophia Coppola, 7: Paige \n",
      "Loh, 6: Kelsey Gems, 5: Stella Bittman, 4: Sheila Joyce, 3: Izzie Bird, 2: Lila \n",
      "Henn, Bow: Kate McGee\n",
      "Third Varsity Eight:  Coxswain: Ashlyn McGinn, Stroke: Lily Bernero, 7: \n",
      "Madeleine Agudelo, 6: Sarah Rapaglia, 5: Katie Rapaglia, 4: Anna Schrieber, 3: \n",
      "Molly Bidwell 2: Paige Lane, Bow: Parker Cuthbertson\n",
      "Varsity Four:  Coxswain: Emma Bradish, Stroke: Ailbhe O’Grady, 3: Kennedy \n",
      "Housley, 2: Beatrice Jones; Bow: Caeley Tierney\n",
      "Second Varsity Four:  Coxswain: Chloe Lee, Stroke: Cameron Bentley, 3: \n",
      "Savannah Fox, 2: Sydney Fratamico; Bow: Dylan Bentley\n",
      "UVA Invite\n",
      "Sunday, April 15\n",
      "Lake Monticello\n",
      "Lake Monticello, Va.\n",
      "No. 11 Virginia vs. No. 4 Cal\n",
      "3V8: 1. Virginia, 7:10.8, 2. Oregon State, 7:28.6\n",
      "2V4: 1. Cal, 7:26.0, 2. Virginia, 7:30.1\n",
      "V4: 1. Cal, 7:23.8, 2. Virginia 7:29.1\n",
      "2V8: 1. Cal, 6:43.6, 2. Virginia, 6:45.7\n",
      "V8: 1. Cal, 6:31.7, 2. Virginia, 6:41.8\n",
      "Virginia Lineups\n",
      "Varsity Eight:  Coxswain: Nora Grabcheski, Stroke: Lauren Jochims, 7: Eva \n",
      "Frohnhofer, 6: Kate Kelly, 5: Catherine Williams, 4: Lauren Benedict, 3: Teagan \n",
      "Orth, 2: Lily Jarrett, Bow: Meagan Goldsmith\n",
      "Second Varsity Eight:  Coxswain: Zoe Tekeian, Stroke: Sophia Coppola, 7: Paige \n",
      "Loh, 6: Kelsey Gems, 5: Stella Bittman, 4: Sheila Joyce, 3: Izzie Bird, 2: Lila \n",
      "Henn, Bow: Kate McGee\n",
      "Third Varsity Eight:  Coxswain: Ashlyn McGinn, Stroke: Lily Bernero, 7: \n",
      "Madeleine Agudelo, 6: Sarah Rapaglia, 5: Katie Rapaglia, 4: Anna Schrieber, 3: \n",
      "Molly Bidwell 2: Paige Lane, Bow: Parker Cuthbertson\n",
      "Varsity Four:  Coxswain: Emma Bradish, Stroke: Ailbhe O’Grady, 3: Kennedy \n",
      "Housley, 2: Beatrice Jones; Bow: Caeley Tierney\n",
      "Second Varsity Four:  Coxswain: Chloe Lee, Stroke: Cameron Bentley, 3: \n",
      "Savannah Fox, 2: Sydney Fratamico; Bow: Dylan Bentley\n",
      "2024 V irginia Rowing Results/Lineups\n"
     ]
    }
   ],
   "source": [
    "# creating a pdf reader object\n",
    "reader = PyPDF2.PdfReader('uva_2023_24_rowing_results.pdf')\n",
    "\n",
    "# print the number of pages in pdf file\n",
    "print(len(reader.pages))\n",
    "\n",
    "# print the text of the first page\n",
    "print(reader.pages[0].extract_text())"
   ]
  },
  {
   "cell_type": "code",
   "execution_count": 36,
   "id": "857870bf-2425-415c-9e58-9c1ac4e5515a",
   "metadata": {},
   "outputs": [
    {
     "name": "stdout",
     "output_type": "stream",
     "text": [
      "NCAA Championship\n",
      "Friday, May 31\n",
      "East Fork/Harsha Lake\n",
      "Bethel, Ohio\n",
      "Varsity Eight Heat Two\n",
      "1. Stanford, 6:50.372, 2. Yale, 6:55.875, 3. Washington, 6:56.019, 4. Virginia, \n",
      "7:04.387, 5. Northeastern, 7:14.784\n",
      "Second Varsity Eight Heat Three\n",
      "1. Stanford, 7:00.982, 2. Princeton, 7:06.553, 3. Virginia, 7:08.050, 4. \n",
      "Rutgers, 7:08.096, 5. Northeastern, 7:35.748, 6. Jacksonville, 7:51.360\n",
      "Varsity Four Heat Three\n",
      "1. Yale, 7:41.231, 2. Brown, 7:50.616, 3. Rutgers, 7:52.854, 4. Virginia, \n",
      "7:56.928, 5. SMU, 8:28.491, 6. Rhode Island, 8:38.434\n",
      "Virginia Lineups\n",
      "Varsity Eight : Coxswain: Nora Grabcheski, Stroke: Lauren Jochims, 7: Catherine \n",
      "Williams, 6: Jenna Hajji, 5: Skylar Morrison, 4: Kate Kelly, 3: Eva Frohnhofer, 2: \n",
      "Kelsey Gems, Bow: Meagan Goldsmith\n",
      " \n",
      "Second Varsity Eight : Coxswain: Zoe Tekeian, Stroke: Sophia Coppola, 7: \n",
      "Cameron Bentley, 6: Lauren Benedict, 5: Paige Loh, 4: Izzie Bird, 3: Sheila \n",
      "Joyce, 2: Lila Henn, Bow: Kate McGee\n",
      " \n",
      "Varsity Four : Coxswain: Emma Bradish, Stroke: Teagan Orth, 3: Lily Jarrett, 2: \n",
      "Sydney Fratamico; Bow: Kennedy Housley\n",
      "Spares : Beatrice Jones, Riley Richardson, Chloe Lee\n",
      "\n"
     ]
    }
   ],
   "source": [
    "# NCAAs prelims\n",
    "print(reader.pages[2].extract_text()[0:1121])"
   ]
  },
  {
   "cell_type": "code",
   "execution_count": 27,
   "id": "248d2b3e-467e-46a1-be79-53f652c03a41",
   "metadata": {},
   "outputs": [
    {
     "name": "stdout",
     "output_type": "stream",
     "text": [
      "Varsity Eight Heat Two\n",
      "1. Stanford, 6:50.372, 2. Yale, 6:55.875, 3. Washington, 6:56.019, 4. Virginia, \n",
      "7:04.387, 5. Northeastern, 7:14.784\n",
      "Second Varsity Eight Heat Three\n",
      "1. Stanford, 7:00.982, 2. Princeton, 7:06.553, 3. Virginia, 7:08.050, 4. \n",
      "Rutgers, 7:08.096, 5. Northeastern, 7:35.748, 6. Jacksonville, 7:51.360\n",
      "Varsity Four Heat Three\n",
      "1. Yale, 7:41.231, 2. Brown, 7:50.616, 3. Rutgers, 7:52.854, 4. Virginia, \n",
      "7:56.928, 5. SMU, 8:28.491, 6. Rhode Island, 8:38.434\n",
      "Virginia Lineups\n",
      "Varsity Eight : Coxswain: Nora Grabcheski, Stroke: Lauren Jochims, 7: Catherine \n",
      "Williams, 6: Jenna Hajji, 5: Skylar Morrison, 4: Kate Kelly, 3: Eva Frohnhofer, 2: \n",
      "Kelsey Gems, Bow: Meagan Goldsmith\n",
      " \n",
      "Second Varsity Eight : Coxswain: Zoe Tekeian, Stroke: Sophia Coppola, 7: \n",
      "Cameron Bentley, 6: Lauren Benedict, 5: Paige Loh, 4: Izzie Bird, 3: Sheila \n",
      "Joyce, 2: Lila Henn, Bow: Kate McGee\n",
      " \n",
      "Varsity Four : Coxswain: Emma Bradish, Stroke: Teagan Orth, 3: Lily Jarrett, 2: \n",
      "Sydney Fratamico; Bow: Kennedy Housley\n",
      "Spares : Beatrice Jones, Riley Richardson, Chloe Lee\n",
      "\n"
     ]
    }
   ],
   "source": [
    "print(reader.pages[2].extract_text()[68:1121])"
   ]
  },
  {
   "cell_type": "markdown",
   "id": "813ba84c-ede6-48c9-ac28-fc143d43077c",
   "metadata": {},
   "source": [
    "Want to save placement X out of Y and time: ncaa_pre_results_V8_2324\n",
    "\n",
    "Also separately save lineups: ncaa_pre_line_V8_2324\n",
    "\n",
    "Do this with season-over-season in mind -- comparisons within and across seasons"
   ]
  },
  {
   "cell_type": "code",
   "execution_count": 33,
   "id": "99706e6e-281d-4159-903c-1409872412f4",
   "metadata": {},
   "outputs": [],
   "source": [
    "ncaa_pre_all = reader.pages[2].extract_text()[0:1121]"
   ]
  },
  {
   "cell_type": "code",
   "execution_count": null,
   "id": "d22ac668-4932-4abc-9bfa-0e103f091f96",
   "metadata": {},
   "outputs": [],
   "source": []
  },
  {
   "cell_type": "code",
   "execution_count": null,
   "id": "af027fce-cd8a-4b0d-bad2-f2bbcdd50a43",
   "metadata": {},
   "outputs": [],
   "source": []
  }
 ],
 "metadata": {
  "kernelspec": {
   "display_name": "Python 3 (ipykernel)",
   "language": "python",
   "name": "python3"
  },
  "language_info": {
   "codemirror_mode": {
    "name": "ipython",
    "version": 3
   },
   "file_extension": ".py",
   "mimetype": "text/x-python",
   "name": "python",
   "nbconvert_exporter": "python",
   "pygments_lexer": "ipython3",
   "version": "3.8.19"
  }
 },
 "nbformat": 4,
 "nbformat_minor": 5
}
